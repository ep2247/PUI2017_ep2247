{
 "cells": [
  {
   "cell_type": "code",
   "execution_count": 2,
   "metadata": {},
   "outputs": [
    {
     "name": "stdout",
     "output_type": "stream",
     "text": [
      "Populating the interactive namespace from numpy and matplotlib\n"
     ]
    }
   ],
   "source": [
    "from __future__ import print_function, division\n",
    "import pylab as pl\n",
    "import pandas as pd\n",
    "import numpy as np\n",
    "%pylab inline\n",
    "\n",
    "import os\n",
    "\n",
    "#this makes my plots pretty! but it is totally not mandatory to do it\n",
    "import json\n",
    "\n",
    "\n",
    "#plus importing scipy.stats\n",
    "import scipy.stats"
   ]
  },
  {
   "cell_type": "markdown",
   "metadata": {},
   "source": [
    "# AD and KS test"
   ]
  },
  {
   "cell_type": "code",
   "execution_count": 3,
   "metadata": {},
   "outputs": [
    {
     "name": "stdout",
     "output_type": "stream",
     "text": [
      "normal on normal KstestResult(statistic=0.016344431331899001, pvalue=0.95212890203293565)\n",
      "normal on normal AndersonResult(statistic=0.26231814126674635, critical_values=array([ 0.574,  0.653,  0.784,  0.914,  1.088]), significance_level=array([ 15. ,  10. ,   5. ,   2.5,   1. ]))\n",
      "\n"
     ]
    }
   ],
   "source": [
    "#generate the distribution\n",
    "alpha = 0.05\n",
    "np.random.seed(999)\n",
    "dist_n = np.random.randn(1000) \n",
    "\n",
    "#test ad and ks. those are easy\n",
    "print (\"normal on normal\", scipy.stats.kstest(dist_n,'norm'))\n",
    "print (\"normal on normal\", scipy.stats.anderson(dist_n, dist='norm'))\n",
    "print (\"\") "
   ]
  },
  {
   "cell_type": "markdown",
   "metadata": {},
   "source": [
    "## KS: high p-value pvalue>0.05: H0 that sample comes from a Gaussian distribution cannot be rejected\n",
    "\n",
    "## AD: at alpha = 0.05 the statistics = 0.26 is smaller than the 0.784 critical value for $alpha$=0.05 (thresh_0.05 = 0.784): the H0 cannot be rejected."
   ]
  },
  {
   "cell_type": "code",
   "execution_count": 4,
   "metadata": {},
   "outputs": [
    {
     "data": {
      "image/png": "[encoded data removed]",
      "text/plain": [
       "<matplotlib.figure.Figure at 0x10f28aa90>"
      ]
     },
     "metadata": {},
     "output_type": "display_data"
    },
    {
     "name": "stdout",
     "output_type": "stream",
     "text": [
      "poisson on normal KstestResult(statistic=1.0, pvalue=0.0)\n",
      "poisson on normal AndersonResult(statistic=0.72428815547573322, critical_values=array([ 0.574,  0.653,  0.784,  0.914,  1.088]), significance_level=array([ 15. ,  10. ,   5. ,   2.5,   1. ]))\n",
      "\n",
      "\n",
      "In this case the means are different, so the distributions will be different for KS and AD test. I want a distribution with 'Poisson with high mean' shape cause that is more Gaussianbut I want the mean to be the same as for my Gaussian: mean=0. Similarly, the standard deviation is sqrt(lambda) = sqrt(100). I want it to be 1\n"
     ]
    },
    {
     "data": {
      "image/png": "[encoded data removed]",
      "text/plain": [
       "<matplotlib.figure.Figure at 0x110eb6208>"
      ]
     },
     "metadata": {},
     "output_type": "display_data"
    },
    {
     "name": "stdout",
     "output_type": "stream",
     "text": [
      "poisson vs normal KstestResult(statistic=0.030537538725986857, pvalue=0.30353169660170898)\n",
      "poisson vs normal AndersonResult(statistic=0.92641226504883889, critical_values=array([ 0.574,  0.653,  0.784,  0.914,  1.088]), significance_level=array([ 15. ,  10. ,   5. ,   2.5,   1. ]))\n",
      "KS: lower p-value but still rejecting the H0 at alpha=0.05\n",
      "AD: statistics AD=0.92 larger than threshold (for alpha=0.05) \n",
      "thresh_0.05 = 0.784 0.784\n"
     ]
    },
    {
     "data": {
      "image/png": "[encoded data removed]",
      "text/plain": [
       "<matplotlib.figure.Figure at 0x11431c208>"
      ]
     },
     "metadata": {},
     "output_type": "display_data"
    },
    {
     "name": "stdout",
     "output_type": "stream",
     "text": [
      "binomial vs normal KstestResult(statistic=0.14200000000000002, pvalue=0.0)\n",
      "binomial vs normal AndersonResult(statistic=15.852273853456722, critical_values=array([ 0.574,  0.653,  0.784,  0.914,  1.088]), significance_level=array([ 15. ,  10. ,   5. ,   2.5,   1. ]))\n",
      " what does the result of each test say??\n"
     ]
    }
   ],
   "source": [
    "np.random.seed(999)\n",
    "# poisson with 1000 elements, lambda=100 (high)\n",
    "dist_p = np.random.poisson(100, 1000)\n",
    "pl.figure()\n",
    "pl.hist(dist_p, alpha=0.5, label=\"Poisson\")\n",
    "pl.hist(dist_n, alpha=0.5, label=\"Gaussian\")\n",
    "pl.legend()\n",
    "pl.title(\"similar distributions in shape\\nbut different mean and stretch\")\n",
    "pl.show()\n",
    "print (\"poisson on normal\", scipy.stats.kstest(dist_p,'norm'))\n",
    "print (\"poisson on normal\", scipy.stats.anderson(dist_p, dist='norm'))\n",
    "print (\"\\n\\nIn this case the means are different, \" + \n",
    "       \"so the distributions will be different for KS and AD test. \" + \n",
    "       \"I want a distribution with 'Poisson with high mean' shape cause that is more Gaussian\" + \n",
    "       \"but I want the mean to be the same as for my Gaussian: mean=0. \"\n",
    "       \"Similarly, the standard deviation is sqrt(lambda) = sqrt(100). I want it to be 1\") \n",
    "\n",
    "\n",
    "dist_p = (np.random.poisson(100, 1000) - 100) * 0.1 #-100 fixes mean, *0.1 fixes stdev\n",
    "pl.figure()\n",
    "pl.hist(dist_p, alpha=0.5, label=\"Poisson\")\n",
    "pl.hist(dist_n, alpha=0.5, label=\"Gaussian\")\n",
    "pl.legend()\n",
    "pl.title(\"similar distributions\")\n",
    "pl.show()\n",
    "\n",
    "print (\"poisson vs normal\", scipy.stats.kstest(dist_p,'norm'))\n",
    "print (\"poisson vs normal\", scipy.stats.anderson(dist_p, dist='norm'))\n",
    "print (\"KS: lower p-value but still rejecting the H0 at alpha=0.05\") \n",
    "print (\"AD: statistics AD=0.92 larger than threshold (for alpha=0.05) \") \n",
    "\n",
    "threshold = scipy.stats.anderson(dist_n, \n",
    "                                 dist='norm')[1][scipy.stats.anderson(dist_n, \n",
    "                                                                      dist='norm')[2]==[5.0]]\n",
    "print (\"thresh_0.05 = 0.784\", threshold[0])\n",
    "\n",
    "#binomial with n=10, p=0.5 => mean=np=5, stdev=sqrt(np(1-p))\n",
    "n, p = 10, 0.5\n",
    "dist_b = (np.random.binomial(n, p, 1000) - n*p) / np.sqrt(n*p*(1-p))  #subtract mean divide by stdev\n",
    "pl.figure()\n",
    "pl.hist(dist_b, alpha=0.5, label=\"Binomial\")\n",
    "pl.hist(dist_n, alpha=0.5, label=\"Gaussian\")\n",
    "pl.legend()\n",
    "pl.title(\"similar distributions\")\n",
    "pl.show()\n",
    "\n",
    "print (\"binomial vs normal\", scipy.stats.kstest(dist_b,'norm'))\n",
    "print (\"binomial vs normal\", scipy.stats.anderson(dist_b, dist='norm'))\n",
    "print (\" what does the result of each test say??\")\n"
   ]
  },
  {
   "cell_type": "markdown",
   "metadata": {},
   "source": [
    "## Null for each results\n",
    "\n",
    "### KS: Observed (binomial/poisson) distribution is idential to the gaussian distribution it is tested against\n",
    "\n",
    "### AD: The sampled (binomial/poisson) distribution is drawn from a population that follows a gaussian distribution"
   ]
  },
  {
   "cell_type": "markdown",
   "metadata": {},
   "source": [
    "## The results for the Binomial vs. Gaussian Test\n",
    "\n",
    "### KS: You reject the null hypothesis because the pvalue is 0 less then alpha which is 0.05\n",
    "\n",
    "### AD: We reject the null hypothesis because our statistic AD = 15.85 is way larger then the threshold (for alpha = 0.05)...the threshold for alpha 0.05 is 0.784."
   ]
  },
  {
   "cell_type": "markdown",
   "metadata": {},
   "source": [
    " "
   ]
  },
  {
   "cell_type": "markdown",
   "metadata": {},
   "source": [
    " "
   ]
  },
  {
   "cell_type": "markdown",
   "metadata": {},
   "source": [
    "# KL Divergence"
   ]
  },
  {
   "cell_type": "markdown",
   "metadata": {},
   "source": [
    "## KL: "
   ]
  },
  {
   "cell_type": "code",
   "execution_count": 5,
   "metadata": {
    "collapsed": true
   },
   "outputs": [],
   "source": [
    "# np.histogram returns the value of the histogram (y) and the edges of the bins (x). \n",
    "# Notice: the edges, not the centers\n",
    "distpdf_n, mybins_n, = np.histogram(dist_n, density=True)\n",
    "distpdf_b, mybins_b, = np.histogram(dist_b, density=True)\n",
    "distpdf_p, mybins_p, = np.histogram(dist_p, density=True)\n",
    "\n",
    "#notice the extra comma on the left side of the '=' sign: \n",
    "#that tells numpy take the first two values returned, \n",
    "#and throw away the rest\n"
   ]
  },
  {
   "cell_type": "code",
   "execution_count": 6,
   "metadata": {},
   "outputs": [
    {
     "name": "stdout",
     "output_type": "stream",
     "text": [
      "the KL test returns the \"entropy\". To figure out what the number means thoug in terms of NULL rejection, help yourself with the fact that you know what the result should be for these three distributions!\n",
      "normal on normal 0.00527211066212\n",
      "poisson on normal 0.00523311596851\n",
      "binomial on normal 0.0690986635223\n"
     ]
    }
   ],
   "source": [
    "#get the bin centers\n",
    "bincenters_n = mybins_n[:-1] + 0.5*(mybins_n[1] - mybins_n[0])\n",
    "bincenters_b = mybins_b[:-1] + 0.5*(mybins_b[1] - mybins_b[0])\n",
    "bincenters_p = mybins_p[:-1] + 0.5*(mybins_p[1] - mybins_p[0])\n",
    "\n",
    "print ('the KL test returns the \"entropy\". ' + \n",
    "       \"To figure out what the number means thoug in terms of NULL rejection, help yourself \" + \n",
    "       \"with the fact that you know what the result should be for these three distributions!\")\n",
    "print (\"normal on normal\", \n",
    "    scipy.stats.entropy(distpdf_n, \n",
    "                            scipy.stats.norm.pdf(bincenters_n)) )\n",
    "print (\"poisson on normal\", \n",
    "       scipy.stats.entropy(distpdf_p, \n",
    "                                scipy.stats.norm.pdf(bincenters_p)))\n",
    "\n",
    "print (\"binomial on normal\", \n",
    "       scipy.stats.entropy(distpdf_b, \n",
    "                                scipy.stats.norm.pdf(bincenters_p)))\n",
    "\n",
    "#you can interpret this as a distance: \n",
    "# it increases as the distributions diverge"
   ]
  },
  {
   "cell_type": "markdown",
   "metadata": {},
   "source": [
    "## Results of KL Test:\n",
    "\n",
    "### normal on normal:\n",
    "\n",
    "### poisson on normal:\n",
    "\n",
    "### binomial on normal:"
   ]
  },
  {
   "cell_type": "markdown",
   "metadata": {},
   "source": [
    "# BINOMIAL"
   ]
  },
  {
   "cell_type": "code",
   "execution_count": null,
   "metadata": {
    "collapsed": true
   },
   "outputs": [],
   "source": [
    "narray = "
   ]
  },
  {
   "cell_type": "code",
   "execution_count": 7,
   "metadata": {},
   "outputs": [
    {
     "ename": "NameError",
     "evalue": "name 'narray' is not defined",
     "output_type": "error",
     "traceback": [
      "\u001b[0;31m---------------------------------------------------------------------------\u001b[0m",
      "\u001b[0;31mNameError\u001b[0m                                 Traceback (most recent call last)",
      "\u001b[0;32m<ipython-input-7-cd977d64e6fa>\u001b[0m in \u001b[0;36m<module>\u001b[0;34m()\u001b[0m\n\u001b[1;32m      2\u001b[0m \u001b[0;34m\u001b[0m\u001b[0m\n\u001b[1;32m      3\u001b[0m \u001b[0;31m#loop over the different values of n (or n and p)\u001b[0m\u001b[0;34m\u001b[0m\u001b[0;34m\u001b[0m\u001b[0m\n\u001b[0;32m----> 4\u001b[0;31m \u001b[0;32mfor\u001b[0m \u001b[0mi\u001b[0m\u001b[0;34m,\u001b[0m\u001b[0mn\u001b[0m \u001b[0;32min\u001b[0m \u001b[0menumerate\u001b[0m\u001b[0;34m(\u001b[0m\u001b[0mnarray\u001b[0m\u001b[0;34m)\u001b[0m\u001b[0;34m:\u001b[0m\u001b[0;34m\u001b[0m\u001b[0m\n\u001b[0m\u001b[1;32m      5\u001b[0m     \u001b[0mp\u001b[0m \u001b[0;34m=\u001b[0m \u001b[0;36m0.5\u001b[0m \u001b[0;31m#parameter for the binomial, my arbitrary choice\u001b[0m\u001b[0;34m\u001b[0m\u001b[0m\n\u001b[1;32m      6\u001b[0m     \u001b[0;31m#generate the distribution\u001b[0m\u001b[0;34m\u001b[0m\u001b[0;34m\u001b[0m\u001b[0m\n",
      "\u001b[0;31mNameError\u001b[0m: name 'narray' is not defined"
     ]
    }
   ],
   "source": [
    "np.random.seed(999)\n",
    "\n",
    "#loop over the different values of n (or n and p)\n",
    "for i,n in enumerate(narray):\n",
    "    p = 0.5 #parameter for the binomial, my arbitrary choice\n",
    "    #generate the distribution\n",
    "    dist = (np.random.binomial(n, p, 1000) - n * p ) / np.sqrt(n * p * (1-p))\n",
    "    #run the tests. \n",
    "    ks_s_b[i] = scipy.stats.kstest(dist,'norm')[0]\n",
    "    ks_p_b[i] = scipy.stats.kstest(dist,'norm')[1]\n",
    "    #print (scipy.stats.kstest(dist,'norm'))\n",
    "    #print (scipy.stats.anderson(dist, dist='norm'))\n",
    "    ad_b[i] = scipy.stats.anderson(dist, dist='norm')[0]\n",
    "    #ad_b[i] = ad_b[i] / ad_b[0]\n",
    "    #print ad_b[i]\n",
    "  \n",
    "    # for KL and Pearson's chisq I have to simulate the normal distribution as well\n",
    "    mybins = np.linspace(min(dist), max(dist), 10) \n",
    "    bincenters = mybins[:-1] + 0.5 * (mybins[1] - mybins[0])\n",
    "\n",
    "    #when i was coding this up something was wrong. i put some plots in to figure out what... \n",
    "    # just so you know.\n",
    "    #if i%10 == 0: \n",
    "    #    pl.hist(dist, bins=mybins)a\n",
    "    #    pl.plot(bincenters, scipy.stats.norm.pdf(bincenters)*1000)\n",
    "    kl_b [i] =  scipy.stats.entropy(np.histogram(dist, bins=mybins)[0], \n",
    "                                    scipy.stats.norm.pdf(bincenters) + n)"
   ]
  },
  {
   "cell_type": "code",
   "execution_count": 8,
   "metadata": {},
   "outputs": [
    {
     "ename": "NameError",
     "evalue": "name 'narray' is not defined",
     "output_type": "error",
     "traceback": [
      "\u001b[0;31m---------------------------------------------------------------------------\u001b[0m",
      "\u001b[0;31mNameError\u001b[0m                                 Traceback (most recent call last)",
      "\u001b[0;32m<ipython-input-8-4802f513307f>\u001b[0m in \u001b[0;36m<module>\u001b[0;34m()\u001b[0m\n\u001b[1;32m      2\u001b[0m \u001b[0mfig\u001b[0m \u001b[0;34m=\u001b[0m \u001b[0mpl\u001b[0m\u001b[0;34m.\u001b[0m\u001b[0mfigure\u001b[0m\u001b[0;34m(\u001b[0m\u001b[0mfigsize\u001b[0m \u001b[0;34m=\u001b[0m \u001b[0;34m(\u001b[0m\u001b[0;36m15\u001b[0m\u001b[0;34m,\u001b[0m\u001b[0;36m5\u001b[0m\u001b[0;34m)\u001b[0m\u001b[0;34m)\u001b[0m\u001b[0;34m\u001b[0m\u001b[0m\n\u001b[1;32m      3\u001b[0m \u001b[0mfig\u001b[0m\u001b[0;34m.\u001b[0m\u001b[0madd_subplot\u001b[0m\u001b[0;34m(\u001b[0m\u001b[0;36m131\u001b[0m\u001b[0;34m)\u001b[0m\u001b[0;34m\u001b[0m\u001b[0m\n\u001b[0;32m----> 4\u001b[0;31m \u001b[0mpl\u001b[0m\u001b[0;34m.\u001b[0m\u001b[0mplot\u001b[0m\u001b[0;34m(\u001b[0m\u001b[0mnarray\u001b[0m\u001b[0;34m,\u001b[0m \u001b[0mks_s_b\u001b[0m\u001b[0;34m,\u001b[0m \u001b[0mlabel\u001b[0m\u001b[0;34m=\u001b[0m\u001b[0;34m'KS statistics'\u001b[0m\u001b[0;34m)\u001b[0m\u001b[0;34m\u001b[0m\u001b[0m\n\u001b[0m\u001b[1;32m      5\u001b[0m \u001b[0mpl\u001b[0m\u001b[0;34m.\u001b[0m\u001b[0mplot\u001b[0m\u001b[0;34m(\u001b[0m\u001b[0mnarray\u001b[0m\u001b[0;34m,\u001b[0m \u001b[0mks_p_b\u001b[0m\u001b[0;34m,\u001b[0m \u001b[0mlabel\u001b[0m\u001b[0;34m=\u001b[0m\u001b[0;34m'KS p-value'\u001b[0m\u001b[0;34m)\u001b[0m\u001b[0;34m\u001b[0m\u001b[0m\n\u001b[1;32m      6\u001b[0m \u001b[0mpl\u001b[0m\u001b[0;34m.\u001b[0m\u001b[0mlegend\u001b[0m\u001b[0;34m(\u001b[0m\u001b[0;34m)\u001b[0m\u001b[0;34m\u001b[0m\u001b[0m\n",
      "\u001b[0;31mNameError\u001b[0m: name 'narray' is not defined"
     ]
    },
    {
     "data": {
      "image/png": "[encoded data removed]",
      "text/plain": [
       "<matplotlib.figure.Figure at 0x11461e438>"
      ]
     },
     "metadata": {},
     "output_type": "display_data"
    }
   ],
   "source": [
    "\n",
    "fig = pl.figure(figsize = (15,5))\n",
    "fig.add_subplot(131)\n",
    "pl.plot(narray, ks_s_b, label='KS statistics')\n",
    "pl.plot(narray, ks_p_b, label='KS p-value')\n",
    "pl.legend()\n",
    "\n",
    "fig.add_subplot(132)\n",
    "pl.plot(narray, ad_b,  label='AD statistics')\n",
    "pl.plot([narray[0], narray[-1]],[threshold, threshold], label=\"treshold\")\n",
    "pl.ylim(0,10) #limit the y range or you cannot see the relevant part\n",
    "pl.legend()\n",
    "\n",
    "fig.add_subplot(133)\n",
    "pl.plot(narray, kl_b, label='K-L (entropy)')\n",
    "\n",
    "pl.legend();"
   ]
  },
  {
   "cell_type": "code",
   "execution_count": null,
   "metadata": {
    "collapsed": true
   },
   "outputs": [],
   "source": []
  }
 ],
 "metadata": {
  "kernelspec": {
   "display_name": "Python 3",
   "language": "python",
   "name": "python3"
  },
  "language_info": {
   "codemirror_mode": {
    "name": "ipython",
    "version": 3
   },
   "file_extension": ".py",
   "mimetype": "text/x-python",
   "name": "python",
   "nbconvert_exporter": "python",
   "pygments_lexer": "ipython3",
   "version": "3.6.1"
  }
 },
 "nbformat": 4,
 "nbformat_minor": 2
}
