{
 "cells": [
  {
   "cell_type": "code",
   "execution_count": 17,
   "metadata": {},
   "outputs": [
    {
     "name": "stderr",
     "output_type": "stream",
     "text": [
      "/Applications/anaconda/lib/python3.6/site-packages/statsmodels/compat/pandas.py:56: FutureWarning: The pandas.core.datetools module is deprecated and will be removed in a future version. Please use the pandas.tseries module instead.\n",
      "  from pandas.core import datetools\n"
     ]
    },
    {
     "name": "stdout",
     "output_type": "stream",
     "text": [
      "Populating the interactive namespace from numpy and matplotlib\n"
     ]
    }
   ],
   "source": [
    "from __future__ import print_function\n",
    "import pandas as pd\n",
    "import numpy as np\n",
    "import scipy.stats as stats\n",
    "import statsmodels.api as sm\n",
    "import pylab as pl\n",
    "%pylab inline"
   ]
  },
  {
   "cell_type": "code",
   "execution_count": 18,
   "metadata": {
    "collapsed": true
   },
   "outputs": [],
   "source": [
    "#create a function for equation for a line, set a and b for defaults\n",
    "#in case you get lazy\n",
    "#****classes are not taught here but are encouraged\n",
    "\n",
    "def makealine(x, a=10, b=5):\n",
    "    y = a * x + b\n",
    "    return y"
   ]
  },
  {
   "cell_type": "code",
   "execution_count": 39,
   "metadata": {
    "collapsed": true
   },
   "outputs": [],
   "source": [
    "def makealine2(x, a=10, b=5):\n",
    "    y = a * x + b\n",
    "    return y + np.random.randn(len(y)) * y.mean()"
   ]
  },
  {
   "cell_type": "code",
   "execution_count": 19,
   "metadata": {
    "collapsed": true
   },
   "outputs": [],
   "source": [
    "np.random.seed(999)"
   ]
  },
  {
   "cell_type": "code",
   "execution_count": 51,
   "metadata": {},
   "outputs": [
    {
     "data": {
      "text/plain": [
       "array([[  1.        ,  45.89360378],\n",
       "       [  1.        ,  79.53107181],\n",
       "       [  1.        ,  84.11230245],\n",
       "       [  1.        ,  95.70067977],\n",
       "       [  1.        ,  16.13701085],\n",
       "       [  1.        ,  27.25121812],\n",
       "       [  1.        ,  80.62767945],\n",
       "       [  1.        ,  70.81512078],\n",
       "       [  1.        ,  34.43481287],\n",
       "       [  1.        ,  10.1585036 ],\n",
       "       [  1.        ,  63.45614681],\n",
       "       [  1.        ,  83.81775947],\n",
       "       [  1.        ,  51.50457357],\n",
       "       [  1.        ,  69.21898966],\n",
       "       [  1.        ,  56.50624419],\n",
       "       [  1.        ,  96.07443673],\n",
       "       [  1.        ,  83.91369259],\n",
       "       [  1.        ,  45.89962031],\n",
       "       [  1.        ,  90.4011928 ],\n",
       "       [  1.        ,  34.25150643],\n",
       "       [  1.        ,  58.82621809],\n",
       "       [  1.        ,  32.72355006],\n",
       "       [  1.        ,  57.60972024],\n",
       "       [  1.        ,  53.91145432],\n",
       "       [  1.        ,  98.01057877],\n",
       "       [  1.        ,  56.43253294],\n",
       "       [  1.        ,  37.28814944],\n",
       "       [  1.        ,  29.7710471 ],\n",
       "       [  1.        ,  60.28956837],\n",
       "       [  1.        ,  44.51394884],\n",
       "       [  1.        ,  87.02910023],\n",
       "       [  1.        ,  15.27391611],\n",
       "       [  1.        ,  17.81184228],\n",
       "       [  1.        ,  55.09386356],\n",
       "       [  1.        ,  42.98271655],\n",
       "       [  1.        ,  77.01962766],\n",
       "       [  1.        ,  19.37494158],\n",
       "       [  1.        ,  96.33049747],\n",
       "       [  1.        ,  71.57663911],\n",
       "       [  1.        ,  13.7169149 ],\n",
       "       [  1.        ,  17.54092507],\n",
       "       [  1.        ,  67.24817007],\n",
       "       [  1.        ,  79.73047461],\n",
       "       [  1.        ,  35.79922692],\n",
       "       [  1.        ,  36.91213879],\n",
       "       [  1.        ,  34.35819614],\n",
       "       [  1.        ,  35.09983471],\n",
       "       [  1.        ,  16.93885401],\n",
       "       [  1.        ,  58.70265285],\n",
       "       [  1.        ,  10.47351074]])"
      ]
     },
     "execution_count": 51,
     "metadata": {},
     "output_type": "execute_result"
    }
   ],
   "source": [
    "# set x axis\n",
    "x = np.random.uniform(10,100,50) #50 points between 10 and 100\n",
    "xx = sm.add_constant(x)\n",
    "xx"
   ]
  },
  {
   "cell_type": "code",
   "execution_count": 21,
   "metadata": {
    "collapsed": true
   },
   "outputs": [],
   "source": [
    "L = makealine(x)"
   ]
  },
  {
   "cell_type": "code",
   "execution_count": 38,
   "metadata": {
    "collapsed": true
   },
   "outputs": [],
   "source": [
    "L2 = makealine2(x)"
   ]
  },
  {
   "cell_type": "code",
   "execution_count": 22,
   "metadata": {},
   "outputs": [
    {
     "data": {
      "text/plain": [
       "[<matplotlib.lines.Line2D at 0x116fea400>]"
      ]
     },
     "execution_count": 22,
     "metadata": {},
     "output_type": "execute_result"
    },
    {
     "data": {
      "image/png": "[encoded data removed]",
      "text/plain": [
       "<matplotlib.figure.Figure at 0x116f70588>"
      ]
     },
     "metadata": {},
     "output_type": "display_data"
    }
   ],
   "source": [
    "pl.plot(x , L)"
   ]
  },
  {
   "cell_type": "code",
   "execution_count": 52,
   "metadata": {},
   "outputs": [
    {
     "data": {
      "text/plain": [
       "[<matplotlib.lines.Line2D at 0x1174bb240>]"
      ]
     },
     "execution_count": 52,
     "metadata": {},
     "output_type": "execute_result"
    },
    {
     "data": {
      "image/png": "[encoded data removed]",
      "text/plain": [
       "<matplotlib.figure.Figure at 0x1174bb438>"
      ]
     },
     "metadata": {},
     "output_type": "display_data"
    }
   ],
   "source": [
    "# make a scatter plot where points are not rendered\n",
    "\n",
    "pl.plot(x,L,'.')\n",
    "pl.plot(x,L2,'.')"
   ]
  },
  {
   "cell_type": "code",
   "execution_count": 25,
   "metadata": {},
   "outputs": [
    {
     "data": {
      "text/plain": [
       "['GEE',\n",
       " 'GLM',\n",
       " 'GLS',\n",
       " 'GLSAR',\n",
       " 'Logit',\n",
       " 'MICE',\n",
       " 'MICEData',\n",
       " 'MNLogit',\n",
       " 'MixedLM',\n",
       " 'NegativeBinomial',\n",
       " 'NominalGEE',\n",
       " 'OLS',\n",
       " 'OrdinalGEE',\n",
       " 'PCA',\n",
       " 'PHReg',\n",
       " 'Poisson',\n",
       " 'ProbPlot',\n",
       " 'Probit',\n",
       " 'QuantReg',\n",
       " 'RLM',\n",
       " 'RecursiveLS',\n",
       " 'SurvfuncRight',\n",
       " 'WLS',\n",
       " '__builtins__',\n",
       " '__cached__',\n",
       " '__doc__',\n",
       " '__file__',\n",
       " '__loader__',\n",
       " '__name__',\n",
       " '__package__',\n",
       " '__spec__',\n",
       " 'add_constant',\n",
       " 'categorical',\n",
       " 'cov_struct',\n",
       " 'datasets',\n",
       " 'distributions',\n",
       " 'duration',\n",
       " 'emplike',\n",
       " 'families',\n",
       " 'formula',\n",
       " 'genmod',\n",
       " 'graphics',\n",
       " 'iolib',\n",
       " 'load',\n",
       " 'nonparametric',\n",
       " 'qqline',\n",
       " 'qqplot',\n",
       " 'qqplot_2samples',\n",
       " 'regression',\n",
       " 'robust',\n",
       " 'show_versions',\n",
       " 'stats',\n",
       " 'test',\n",
       " 'tools',\n",
       " 'tsa',\n",
       " 'version',\n",
       " 'webdoc']"
      ]
     },
     "execution_count": 25,
     "metadata": {},
     "output_type": "execute_result"
    }
   ],
   "source": [
    "# use stats models to fit it...used to import a lot of R syntax into python\n",
    "\n",
    "# first do it the wrong way\n",
    "\n",
    "dir(sm) #gives you all of the content in that package"
   ]
  },
  {
   "cell_type": "code",
   "execution_count": 29,
   "metadata": {
    "collapsed": true
   },
   "outputs": [],
   "source": [
    "#we are going to first you ols\n",
    "\n",
    "sm.OLS?"
   ]
  },
  {
   "cell_type": "code",
   "execution_count": 56,
   "metadata": {},
   "outputs": [
    {
     "data": {
      "text/plain": [
       "<statsmodels.regression.linear_model.OLS at 0x117092128>"
      ]
     },
     "execution_count": 56,
     "metadata": {},
     "output_type": "execute_result"
    }
   ],
   "source": [
    "sm.OLS(L, x)\n",
    "sm.OLS(L2,x)"
   ]
  },
  {
   "cell_type": "code",
   "execution_count": 55,
   "metadata": {},
   "outputs": [
    {
     "data": {
      "text/plain": [
       "<statsmodels.regression.linear_model.RegressionResultsWrapper at 0x117afe2e8>"
      ]
     },
     "execution_count": 55,
     "metadata": {},
     "output_type": "execute_result"
    }
   ],
   "source": [
    "sm.OLS(L, x).fit()\n",
    "sm.OLS(L2,x).fit()"
   ]
  },
  {
   "cell_type": "code",
   "execution_count": 54,
   "metadata": {
    "collapsed": true
   },
   "outputs": [],
   "source": [
    "lin_model = sm.OLS(L, x).fit()\n",
    "lin_model2 = sm.OLS(L2,x).fit()"
   ]
  },
  {
   "cell_type": "code",
   "execution_count": 47,
   "metadata": {},
   "outputs": [
    {
     "data": {
      "text/plain": [
       "array([ 829.20182295,  579.04135041,  208.74008463,  680.73472278,\n",
       "        183.18398869,  401.96822143,  488.24437534,  603.39818307,\n",
       "        670.25801199,  733.06105666,  816.98116147,  220.326551  ,\n",
       "        411.52904033,  283.49484248,  742.06563603,  131.02584686,\n",
       "        925.14938093,  468.09750817,  790.22096888,  530.29424063,\n",
       "        360.7077782 ,  781.93113571,  188.77343167,  474.62305479,\n",
       "        356.1018428 ,  454.60337315,  890.56753822,  174.40711534,\n",
       "        606.61271233,  597.18597865,  401.94772014,  983.19444184,\n",
       "        360.30627832,  561.57418697,  234.8883102 ,  278.84749803,\n",
       "        863.10468014,  104.14611413,  810.33633521,  856.44750924,\n",
       "        951.13261099,  982.58954457,  855.85392319,  160.41917338,\n",
       "        466.85706379,  440.56394683,  560.888593  ,  987.37259338,\n",
       "        843.31185725,  270.78455531])"
      ]
     },
     "execution_count": 47,
     "metadata": {},
     "output_type": "execute_result"
    }
   ],
   "source": [
    "#do dot and tab to see everything you can do...first do fitted values\n",
    "lin_model.fittedvalues"
   ]
  },
  {
   "cell_type": "code",
   "execution_count": 48,
   "metadata": {},
   "outputs": [
    {
     "data": {
      "text/plain": [
       "[<matplotlib.lines.Line2D at 0x117559828>]"
      ]
     },
     "execution_count": 48,
     "metadata": {},
     "output_type": "execute_result"
    },
    {
     "data": {
      "image/png": "[encoded data removed]",
      "text/plain": [
       "<matplotlib.figure.Figure at 0x117559358>"
      ]
     },
     "metadata": {},
     "output_type": "display_data"
    }
   ],
   "source": [
    "# we can plot them and THIS IS WRONG\n",
    "\n",
    "pl.plot(x, L, '.')\n",
    "pl.plot(x, lin_model.fittedvalues,'o',alpha=0.5)"
   ]
  },
  {
   "cell_type": "code",
   "execution_count": 57,
   "metadata": {},
   "outputs": [
    {
     "data": {
      "text/plain": [
       "[<matplotlib.lines.Line2D at 0x1179384e0>]"
      ]
     },
     "execution_count": 57,
     "metadata": {},
     "output_type": "execute_result"
    },
    {
     "data": {
      "image/png": "[encoded data removed]",
      "text/plain": [
       "<matplotlib.figure.Figure at 0x117938278>"
      ]
     },
     "metadata": {},
     "output_type": "display_data"
    }
   ],
   "source": [
    "pl.plot(x, L2, '.')\n",
    "pl.plot(x, lin_model2.fittedvalues,'o',alpha=0.5)"
   ]
  },
  {
   "cell_type": "code",
   "execution_count": 58,
   "metadata": {
    "scrolled": false
   },
   "outputs": [
    {
     "data": {
      "text/html": [
       "<table class=\"simpletable\">\n",
       "<caption>OLS Regression Results</caption>\n",
       "<tr>\n",
       "  <th>Dep. Variable:</th>            <td>y</td>        <th>  R-squared:         </th> <td>   0.596</td>\n",
       "</tr>\n",
       "<tr>\n",
       "  <th>Model:</th>                   <td>OLS</td>       <th>  Adj. R-squared:    </th> <td>   0.588</td>\n",
       "</tr>\n",
       "<tr>\n",
       "  <th>Method:</th>             <td>Least Squares</td>  <th>  F-statistic:       </th> <td>   72.36</td>\n",
       "</tr>\n",
       "<tr>\n",
       "  <th>Date:</th>             <td>Thu, 12 Oct 2017</td> <th>  Prob (F-statistic):</th> <td>3.25e-11</td>\n",
       "</tr>\n",
       "<tr>\n",
       "  <th>Time:</th>                 <td>10:54:24</td>     <th>  Log-Likelihood:    </th> <td> -369.05</td>\n",
       "</tr>\n",
       "<tr>\n",
       "  <th>No. Observations:</th>      <td>    50</td>      <th>  AIC:               </th> <td>   740.1</td>\n",
       "</tr>\n",
       "<tr>\n",
       "  <th>Df Residuals:</th>          <td>    49</td>      <th>  BIC:               </th> <td>   742.0</td>\n",
       "</tr>\n",
       "<tr>\n",
       "  <th>Df Model:</th>              <td>     1</td>      <th>                     </th>     <td> </td>   \n",
       "</tr>\n",
       "<tr>\n",
       "  <th>Covariance Type:</th>      <td>nonrobust</td>    <th>                     </th>     <td> </td>   \n",
       "</tr>\n",
       "</table>\n",
       "<table class=\"simpletable\">\n",
       "<tr>\n",
       "   <td></td>     <th>coef</th>     <th>std err</th>      <th>t</th>      <th>P>|t|</th>  <th>[0.025</th>    <th>0.975]</th>  \n",
       "</tr>\n",
       "<tr>\n",
       "  <th>x1</th> <td>    8.0162</td> <td>    0.942</td> <td>    8.506</td> <td> 0.000</td> <td>    6.122</td> <td>    9.910</td>\n",
       "</tr>\n",
       "</table>\n",
       "<table class=\"simpletable\">\n",
       "<tr>\n",
       "  <th>Omnibus:</th>       <td> 0.031</td> <th>  Durbin-Watson:     </th> <td>   1.797</td>\n",
       "</tr>\n",
       "<tr>\n",
       "  <th>Prob(Omnibus):</th> <td> 0.984</td> <th>  Jarque-Bera (JB):  </th> <td>   0.213</td>\n",
       "</tr>\n",
       "<tr>\n",
       "  <th>Skew:</th>          <td> 0.003</td> <th>  Prob(JB):          </th> <td>   0.899</td>\n",
       "</tr>\n",
       "<tr>\n",
       "  <th>Kurtosis:</th>      <td> 2.680</td> <th>  Cond. No.          </th> <td>    1.00</td>\n",
       "</tr>\n",
       "</table>"
      ],
      "text/plain": [
       "<class 'statsmodels.iolib.summary.Summary'>\n",
       "\"\"\"\n",
       "                            OLS Regression Results                            \n",
       "==============================================================================\n",
       "Dep. Variable:                      y   R-squared:                       0.596\n",
       "Model:                            OLS   Adj. R-squared:                  0.588\n",
       "Method:                 Least Squares   F-statistic:                     72.36\n",
       "Date:                Thu, 12 Oct 2017   Prob (F-statistic):           3.25e-11\n",
       "Time:                        10:54:24   Log-Likelihood:                -369.05\n",
       "No. Observations:                  50   AIC:                             740.1\n",
       "Df Residuals:                      49   BIC:                             742.0\n",
       "Df Model:                           1                                         \n",
       "Covariance Type:            nonrobust                                         \n",
       "==============================================================================\n",
       "                 coef    std err          t      P>|t|      [0.025      0.975]\n",
       "------------------------------------------------------------------------------\n",
       "x1             8.0162      0.942      8.506      0.000       6.122       9.910\n",
       "==============================================================================\n",
       "Omnibus:                        0.031   Durbin-Watson:                   1.797\n",
       "Prob(Omnibus):                  0.984   Jarque-Bera (JB):                0.213\n",
       "Skew:                           0.003   Prob(JB):                        0.899\n",
       "Kurtosis:                       2.680   Cond. No.                         1.00\n",
       "==============================================================================\n",
       "\n",
       "Warnings:\n",
       "[1] Standard Errors assume that the covariance matrix of the errors is correctly specified.\n",
       "\"\"\""
      ]
     },
     "execution_count": 58,
     "metadata": {},
     "output_type": "execute_result"
    }
   ],
   "source": [
    "lin_model.summary()"
   ]
  },
  {
   "cell_type": "code",
   "execution_count": 61,
   "metadata": {},
   "outputs": [
    {
     "data": {
      "text/plain": [
       "array([ 8.016199])"
      ]
     },
     "execution_count": 61,
     "metadata": {},
     "output_type": "execute_result"
    }
   ],
   "source": [
    "lin_model.params"
   ]
  },
  {
   "cell_type": "code",
   "execution_count": 60,
   "metadata": {},
   "outputs": [],
   "source": [
    "import statsmodels.formula as smf"
   ]
  },
  {
   "cell_type": "code",
   "execution_count": 63,
   "metadata": {},
   "outputs": [
    {
     "ename": "AttributeError",
     "evalue": "module 'statsmodels.formula' has no attribute 'ols'",
     "output_type": "error",
     "traceback": [
      "\u001b[0;31m---------------------------------------------------------------------------\u001b[0m",
      "\u001b[0;31mAttributeError\u001b[0m                            Traceback (most recent call last)",
      "\u001b[0;32m<ipython-input-63-0322684686b1>\u001b[0m in \u001b[0;36m<module>\u001b[0;34m()\u001b[0m\n\u001b[0;32m----> 1\u001b[0;31m \u001b[0msmf\u001b[0m\u001b[0;34m.\u001b[0m\u001b[0mols\u001b[0m\u001b[0;34m(\u001b[0m\u001b[0;34m'y~x'\u001b[0m\u001b[0;34m,\u001b[0m\u001b[0mdf\u001b[0m\u001b[0;34m)\u001b[0m\u001b[0;34m\u001b[0m\u001b[0m\n\u001b[0m",
      "\u001b[0;31mAttributeError\u001b[0m: module 'statsmodels.formula' has no attribute 'ols'"
     ]
    }
   ],
   "source": [
    "smf.ols('y~x',df)"
   ]
  },
  {
   "cell_type": "code",
   "execution_count": null,
   "metadata": {
    "collapsed": true
   },
   "outputs": [],
   "source": []
  }
 ],
 "metadata": {
  "kernelspec": {
   "display_name": "Python 3",
   "language": "python",
   "name": "python3"
  },
  "language_info": {
   "codemirror_mode": {
    "name": "ipython",
    "version": 3
   },
   "file_extension": ".py",
   "mimetype": "text/x-python",
   "name": "python",
   "nbconvert_exporter": "python",
   "pygments_lexer": "ipython3",
   "version": "3.6.1"
  }
 },
 "nbformat": 4,
 "nbformat_minor": 2
}
