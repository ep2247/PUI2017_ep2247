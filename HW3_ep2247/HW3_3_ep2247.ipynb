{
 "cells": [
  {
   "cell_type": "code",
   "execution_count": 5,
   "metadata": {
    "collapsed": false
   },
   "outputs": [
    {
     "name": "stdout",
     "output_type": "stream",
     "text": [
      "Populating the interactive namespace from numpy and matplotlib\n"
     ]
    }
   ],
   "source": [
    "from __future__ import print_function\n",
    "import numpy as np\n",
    "import matplotlib.pylab as pl\n",
    "import pandas as pd\n",
    "%pylab inline"
   ]
  },
  {
   "cell_type": "markdown",
   "metadata": {},
   "source": [
    "## Null: \n",
    "### new average bus route time is the same or longer as the old bus route time\n",
    "\n",
    "$H_0$ : ${NewMean{\\mathrm{bustrip}}} >= {OldMean{\\mathrm{bustrip}}}$\n",
    "\n",
    "\n",
    "\n",
    "## Alternative: \n",
    "### the average bus route time is shorter than the old average bus route time\n",
    "\n",
    "$H_1$ : ${NewMean{\\mathrm{bustrip}}} < {OldMean{\\mathrm{bustrip}}}$\n",
    "\n",
    "$\\alpha=0.05$"
   ]
  },
  {
   "cell_type": "code",
   "execution_count": 48,
   "metadata": {
    "collapsed": false
   },
   "outputs": [
    {
     "data": {
      "text/html": [
       "<div>\n",
       "<table border=\"1\" class=\"dataframe\">\n",
       "  <thead>\n",
       "    <tr style=\"text-align: right;\">\n",
       "      <th></th>\n",
       "      <th>0</th>\n",
       "    </tr>\n",
       "  </thead>\n",
       "  <tbody>\n",
       "    <tr>\n",
       "      <th>0</th>\n",
       "      <td>31.622239</td>\n",
       "    </tr>\n",
       "    <tr>\n",
       "      <th>1</th>\n",
       "      <td>32.821376</td>\n",
       "    </tr>\n",
       "    <tr>\n",
       "      <th>2</th>\n",
       "      <td>30.229101</td>\n",
       "    </tr>\n",
       "    <tr>\n",
       "      <th>3</th>\n",
       "      <td>31.413766</td>\n",
       "    </tr>\n",
       "    <tr>\n",
       "      <th>4</th>\n",
       "      <td>39.010550</td>\n",
       "    </tr>\n",
       "  </tbody>\n",
       "</table>\n",
       "</div>"
      ],
      "text/plain": [
       "           0\n",
       "0  31.622239\n",
       "1  32.821376\n",
       "2  30.229101\n",
       "3  31.413766\n",
       "4  39.010550"
      ]
     },
     "execution_count": 48,
     "metadata": {},
     "output_type": "execute_result"
    }
   ],
   "source": [
    "df = pd.read_csv('https://raw.githubusercontent.com/fedhere/PUI2017_fb55/master/Lab3_fb55/times.txt',header=None)\n",
    "df.head()"
   ]
  },
  {
   "cell_type": "code",
   "execution_count": 49,
   "metadata": {
    "collapsed": false
   },
   "outputs": [
    {
     "data": {
      "text/plain": [
       "array([[ 31.62223931],\n",
       "       [ 32.82137636],\n",
       "       [ 30.2291014 ],\n",
       "       [ 31.41376587],\n",
       "       [ 39.01055035],\n",
       "       [ 34.82207891],\n",
       "       [ 39.87188366],\n",
       "       [ 39.57994562],\n",
       "       [ 31.02658678],\n",
       "       [ 27.66246068],\n",
       "       [ 18.8752884 ],\n",
       "       [ 46.2313731 ],\n",
       "       [ 30.01522604],\n",
       "       [ 47.6004104 ],\n",
       "       [ 16.52726666],\n",
       "       [ 42.4462331 ],\n",
       "       [ 33.62527449],\n",
       "       [ 42.28462558],\n",
       "       [ 46.20520667],\n",
       "       [ 30.87517392],\n",
       "       [ 32.94800341],\n",
       "       [ 26.17691512],\n",
       "       [ 31.25699649],\n",
       "       [ 35.33644554],\n",
       "       [ 35.64072501],\n",
       "       [ 40.32297174],\n",
       "       [ 38.04348588],\n",
       "       [ 29.4579793 ],\n",
       "       [ 23.91636367],\n",
       "       [ 34.56403521],\n",
       "       [ 45.42782464],\n",
       "       [ 38.95607754],\n",
       "       [ 39.11396748],\n",
       "       [ 39.67398759],\n",
       "       [ 31.89148105],\n",
       "       [ 22.62379325],\n",
       "       [ 26.18910408],\n",
       "       [ 43.54114213],\n",
       "       [ 33.2607386 ],\n",
       "       [ 31.67602384],\n",
       "       [ 37.12846259],\n",
       "       [ 38.22048496],\n",
       "       [ 34.38814185],\n",
       "       [ 36.11407371],\n",
       "       [ 44.08064814],\n",
       "       [ 29.59917161],\n",
       "       [ 37.02411751],\n",
       "       [ 41.60576556],\n",
       "       [ 44.37860528],\n",
       "       [ 38.06471077],\n",
       "       [ 22.90526456],\n",
       "       [ 40.27182857],\n",
       "       [ 31.57979239],\n",
       "       [ 25.88037795],\n",
       "       [ 28.8913048 ],\n",
       "       [ 44.33687925],\n",
       "       [ 36.78948684],\n",
       "       [ 43.46098875],\n",
       "       [ 40.65557   ],\n",
       "       [ 26.16634004],\n",
       "       [ 25.13884784],\n",
       "       [ 33.01581456],\n",
       "       [ 32.87050073],\n",
       "       [ 26.28557154],\n",
       "       [ 39.44933037],\n",
       "       [ 36.25528612],\n",
       "       [ 40.719133  ],\n",
       "       [ 40.57181545],\n",
       "       [ 19.87166413],\n",
       "       [ 43.21925286],\n",
       "       [ 31.48102823],\n",
       "       [ 37.14915056],\n",
       "       [ 38.991504  ],\n",
       "       [ 20.53059384],\n",
       "       [ 27.80447692],\n",
       "       [ 38.69933298],\n",
       "       [ 30.0223142 ],\n",
       "       [ 38.64884169],\n",
       "       [ 26.40668884],\n",
       "       [ 32.10224978],\n",
       "       [ 28.31532754],\n",
       "       [ 43.26195884],\n",
       "       [ 40.3609407 ],\n",
       "       [ 37.3025258 ],\n",
       "       [ 31.45110181],\n",
       "       [ 38.79599524],\n",
       "       [ 36.92553372],\n",
       "       [ 32.37167945],\n",
       "       [ 23.25835631],\n",
       "       [ 26.42613261],\n",
       "       [ 48.74987653],\n",
       "       [ 31.42512354],\n",
       "       [ 46.80679298],\n",
       "       [ 30.59748648],\n",
       "       [ 20.7926322 ],\n",
       "       [ 26.19785226],\n",
       "       [ 42.7274097 ],\n",
       "       [ 33.7314695 ],\n",
       "       [ 37.23859057],\n",
       "       [ 36.33984141]])"
      ]
     },
     "execution_count": 49,
     "metadata": {},
     "output_type": "execute_result"
    }
   ],
   "source": [
    "df = pd.read_csv('times.txt',header=None).values\n",
    "df"
   ]
  },
  {
   "cell_type": "code",
   "execution_count": 50,
   "metadata": {
    "collapsed": false
   },
   "outputs": [
    {
     "data": {
      "text/plain": [
       "(100, 1)"
      ]
     },
     "execution_count": 50,
     "metadata": {},
     "output_type": "execute_result"
    }
   ],
   "source": [
    "df = pd.read_csv('times.txt',header=None).values.shape\n",
    "df"
   ]
  },
  {
   "cell_type": "code",
   "execution_count": 51,
   "metadata": {
    "collapsed": false
   },
   "outputs": [
    {
     "data": {
      "text/plain": [
       "array([ 31.62223931,  32.82137636,  30.2291014 ,  31.41376587,\n",
       "        39.01055035,  34.82207891,  39.87188366,  39.57994562,\n",
       "        31.02658678,  27.66246068,  18.8752884 ,  46.2313731 ,\n",
       "        30.01522604,  47.6004104 ,  16.52726666,  42.4462331 ,\n",
       "        33.62527449,  42.28462558,  46.20520667,  30.87517392,\n",
       "        32.94800341,  26.17691512,  31.25699649,  35.33644554,\n",
       "        35.64072501,  40.32297174,  38.04348588,  29.4579793 ,\n",
       "        23.91636367,  34.56403521,  45.42782464,  38.95607754,\n",
       "        39.11396748,  39.67398759,  31.89148105,  22.62379325,\n",
       "        26.18910408,  43.54114213,  33.2607386 ,  31.67602384,\n",
       "        37.12846259,  38.22048496,  34.38814185,  36.11407371,\n",
       "        44.08064814,  29.59917161,  37.02411751,  41.60576556,\n",
       "        44.37860528,  38.06471077,  22.90526456,  40.27182857,\n",
       "        31.57979239,  25.88037795,  28.8913048 ,  44.33687925,\n",
       "        36.78948684,  43.46098875,  40.65557   ,  26.16634004,\n",
       "        25.13884784,  33.01581456,  32.87050073,  26.28557154,\n",
       "        39.44933037,  36.25528612,  40.719133  ,  40.57181545,\n",
       "        19.87166413,  43.21925286,  31.48102823,  37.14915056,\n",
       "        38.991504  ,  20.53059384,  27.80447692,  38.69933298,\n",
       "        30.0223142 ,  38.64884169,  26.40668884,  32.10224978,\n",
       "        28.31532754,  43.26195884,  40.3609407 ,  37.3025258 ,\n",
       "        31.45110181,  38.79599524,  36.92553372,  32.37167945,\n",
       "        23.25835631,  26.42613261,  48.74987653,  31.42512354,\n",
       "        46.80679298,  30.59748648,  20.7926322 ,  26.19785226,\n",
       "        42.7274097 ,  33.7314695 ,  37.23859057,  36.33984141])"
      ]
     },
     "execution_count": 51,
     "metadata": {},
     "output_type": "execute_result"
    }
   ],
   "source": [
    "tNew = pd.read_csv('times.txt',header=None).values.squeeze()\n",
    "tNew"
   ]
  },
  {
   "cell_type": "code",
   "execution_count": 52,
   "metadata": {
    "collapsed": false
   },
   "outputs": [
    {
     "data": {
      "text/plain": [
       "34.466161688299998"
      ]
     },
     "execution_count": 52,
     "metadata": {},
     "output_type": "execute_result"
    }
   ],
   "source": [
    "tNew.mean()"
   ]
  },
  {
   "cell_type": "code",
   "execution_count": 53,
   "metadata": {
    "collapsed": false
   },
   "outputs": [
    {
     "data": {
      "text/plain": [
       "7.1015040681937771"
      ]
     },
     "execution_count": 53,
     "metadata": {},
     "output_type": "execute_result"
    }
   ],
   "source": [
    "tNewStdev = tNew.std()\n",
    "tNewStdev"
   ]
  },
  {
   "cell_type": "code",
   "execution_count": 54,
   "metadata": {
    "collapsed": false
   },
   "outputs": [
    {
     "data": {
      "text/plain": [
       "34.466161688299998"
      ]
     },
     "execution_count": 54,
     "metadata": {},
     "output_type": "execute_result"
    }
   ],
   "source": [
    "np.mean(tNew) #this gives you the same number"
   ]
  },
  {
   "cell_type": "code",
   "execution_count": 55,
   "metadata": {
    "collapsed": true
   },
   "outputs": [],
   "source": [
    "tOldMean = 36.\n",
    "tOldStdev = 6."
   ]
  },
  {
   "cell_type": "code",
   "execution_count": 56,
   "metadata": {
    "collapsed": false
   },
   "outputs": [
    {
     "data": {
      "text/plain": [
       "1.5338383117000021"
      ]
     },
     "execution_count": 56,
     "metadata": {},
     "output_type": "execute_result"
    }
   ],
   "source": [
    "tOldMean - tNew.mean() #difference b/w the means"
   ]
  },
  {
   "cell_type": "code",
   "execution_count": 57,
   "metadata": {
    "collapsed": false
   },
   "outputs": [
    {
     "data": {
      "text/plain": [
       "0.25563971861666701"
      ]
     },
     "execution_count": 57,
     "metadata": {},
     "output_type": "execute_result"
    }
   ],
   "source": [
    "# called the z test\n",
    "(tOldMean - tNew.mean()) / tOldStdev #tells you how many standard dev from the mean"
   ]
  },
  {
   "cell_type": "code",
   "execution_count": 58,
   "metadata": {
    "collapsed": false
   },
   "outputs": [
    {
     "data": {
      "text/plain": [
       "0.21598781004291168"
      ]
     },
     "execution_count": 58,
     "metadata": {},
     "output_type": "execute_result"
    }
   ],
   "source": [
    "# t test uses the standard dev of the sample\n",
    "(tOldMean - tNew.mean()) / tNew.std()"
   ]
  },
  {
   "cell_type": "code",
   "execution_count": 59,
   "metadata": {
    "collapsed": true
   },
   "outputs": [],
   "source": [
    "#sample has to be large enough to use z test, if small need to use the t test,\n",
    "#if you know you can choose between the 2"
   ]
  },
  {
   "cell_type": "code",
   "execution_count": 60,
   "metadata": {
    "collapsed": false
   },
   "outputs": [],
   "source": [
    "# z = (pop mean - sample mean)/(sigma/sqrt(n))\n",
    "#z = (tNew.mean() - tOldMean) / (tOldStdev / np.sqrt(100))\n",
    "#z"
   ]
  },
  {
   "cell_type": "code",
   "execution_count": 61,
   "metadata": {
    "collapsed": false
   },
   "outputs": [],
   "source": [
    "#ztest = (tOldMean - tNew.mean())/(tNewStdev/ np.sqrt(100))\n",
    "#ztest"
   ]
  },
  {
   "cell_type": "markdown",
   "metadata": {},
   "source": [
    "# Z = $\\frac{\\mu_{pop} - \\mu_{sample}}{\\sigma / \\sqrt{N}}$"
   ]
  },
  {
   "cell_type": "code",
   "execution_count": 62,
   "metadata": {
    "collapsed": false
   },
   "outputs": [
    {
     "data": {
      "text/plain": [
       "2.5563971861666701"
      ]
     },
     "execution_count": 62,
     "metadata": {},
     "output_type": "execute_result"
    }
   ],
   "source": [
    "ztest = (tOldMean - tNew.mean())/(tOldStdev/ np.sqrt(100))\n",
    "ztest"
   ]
  },
  {
   "cell_type": "code",
   "execution_count": 63,
   "metadata": {
    "collapsed": true
   },
   "outputs": [],
   "source": [
    "# 2.55 means its 2.55 standard deviations away from the mean"
   ]
  },
  {
   "cell_type": "markdown",
   "metadata": {},
   "source": [
    "### $\\alpha=0.05$\n",
    "\n",
    "### We can reject the null hypothesis because the z-test had a result of 2.55, which is more than 2 standard deviations away from the mean because we set our significance threshold alpha of 0.05. \n",
    "\n"
   ]
  },
  {
   "cell_type": "code",
   "execution_count": null,
   "metadata": {
    "collapsed": true
   },
   "outputs": [],
   "source": []
  },
  {
   "cell_type": "code",
   "execution_count": null,
   "metadata": {
    "collapsed": true
   },
   "outputs": [],
   "source": []
  }
 ],
 "metadata": {
  "kernelspec": {
   "display_name": "PUI2016_Python3",
   "language": "python",
   "name": "pui2016_python3"
  },
  "language_info": {
   "codemirror_mode": {
    "name": "ipython",
    "version": 3
   },
   "file_extension": ".py",
   "mimetype": "text/x-python",
   "name": "python",
   "nbconvert_exporter": "python",
   "pygments_lexer": "ipython3",
   "version": "3.5.4"
  }
 },
 "nbformat": 4,
 "nbformat_minor": 0
}
