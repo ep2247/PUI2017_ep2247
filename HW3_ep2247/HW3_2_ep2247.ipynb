{
 "cells": [
  {
   "cell_type": "code",
   "execution_count": 2,
   "metadata": {
    "collapsed": false
   },
   "outputs": [
    {
     "name": "stdout",
     "output_type": "stream",
     "text": [
      "Populating the interactive namespace from numpy and matplotlib\n"
     ]
    },
    {
     "ename": "NameError",
     "evalue": "name 's' is not defined",
     "output_type": "error",
     "traceback": [
      "\u001b[0;31m---------------------------------------------------------------------------\u001b[0m",
      "\u001b[0;31mNameError\u001b[0m                                 Traceback (most recent call last)",
      "\u001b[0;32m<ipython-input-2-1a6f8787e9c8>\u001b[0m in \u001b[0;36m<module>\u001b[0;34m()\u001b[0m\n\u001b[1;32m      6\u001b[0m \u001b[0;34m\u001b[0m\u001b[0m\n\u001b[1;32m      7\u001b[0m \u001b[0mget_ipython\u001b[0m\u001b[0;34m(\u001b[0m\u001b[0;34m)\u001b[0m\u001b[0;34m.\u001b[0m\u001b[0mmagic\u001b[0m\u001b[0;34m(\u001b[0m\u001b[0;34m'pylab inline'\u001b[0m\u001b[0;34m)\u001b[0m\u001b[0;34m\u001b[0m\u001b[0m\n\u001b[0;32m----> 8\u001b[0;31m \u001b[0mpl\u001b[0m\u001b[0;34m.\u001b[0m\u001b[0mrcParams\u001b[0m\u001b[0;34m.\u001b[0m\u001b[0mupdate\u001b[0m\u001b[0;34m(\u001b[0m\u001b[0ms\u001b[0m\u001b[0;34m)\u001b[0m\u001b[0;34m\u001b[0m\u001b[0m\n\u001b[0m",
      "\u001b[0;31mNameError\u001b[0m: name 's' is not defined"
     ]
    }
   ],
   "source": [
    "from __future__  import print_function, division\n",
    "import pylab as pl\n",
    "import pandas as pd\n",
    "import numpy as np\n",
    "import os\n",
    "\n",
    "%pylab inline\n",
    "pl.rcParams.update(s)"
   ]
  },
  {
   "cell_type": "markdown",
   "metadata": {},
   "source": [
    "# Idea: \n",
    "\n",
    "## On average, men takes trips that are shorter\n",
    "\n",
    "\n",
    "# Null Hypothesis:\n",
    "\n",
    "## The average trip length for males is shorter than the average trip length for females\n",
    "\n",
    "\n",
    "# Alternative Hypothesis: \n",
    "\n",
    "## The average trip length for males is longer than the average trip length for females\n",
    "\n",
    "# significance level  $\\alpha=0.05$\n"
   ]
  },
  {
   "cell_type": "code",
   "execution_count": 3,
   "metadata": {
    "collapsed": false
   },
   "outputs": [
    {
     "name": "stdout",
     "output_type": "stream",
     "text": [
      "/home/cusp/ep2247/PUIdata\n"
     ]
    }
   ],
   "source": [
    "PUIDATA = os.getenv(\"PUIDATA\")\n",
    "print(PUIDATA)"
   ]
  },
  {
   "cell_type": "code",
   "execution_count": 4,
   "metadata": {
    "collapsed": true
   },
   "outputs": [],
   "source": [
    "datestring = '201707'"
   ]
  },
  {
   "cell_type": "code",
   "execution_count": 5,
   "metadata": {
    "collapsed": false
   },
   "outputs": [
    {
     "data": {
      "text/html": [
       "<div>\n",
       "<table border=\"1\" class=\"dataframe\">\n",
       "  <thead>\n",
       "    <tr style=\"text-align: right;\">\n",
       "      <th></th>\n",
       "      <th>tripduration</th>\n",
       "      <th>starttime</th>\n",
       "      <th>stoptime</th>\n",
       "      <th>start station id</th>\n",
       "      <th>start station name</th>\n",
       "      <th>start station latitude</th>\n",
       "      <th>start station longitude</th>\n",
       "      <th>end station id</th>\n",
       "      <th>end station name</th>\n",
       "      <th>end station latitude</th>\n",
       "      <th>end station longitude</th>\n",
       "      <th>bikeid</th>\n",
       "      <th>usertype</th>\n",
       "      <th>birth year</th>\n",
       "      <th>gender</th>\n",
       "      <th>startdate</th>\n",
       "      <th>enddate</th>\n",
       "    </tr>\n",
       "  </thead>\n",
       "  <tbody>\n",
       "    <tr>\n",
       "      <th>0</th>\n",
       "      <td>340</td>\n",
       "      <td>2017-07-01 00:00:08</td>\n",
       "      <td>2017-07-01 00:05:48</td>\n",
       "      <td>3186</td>\n",
       "      <td>Grove St PATH</td>\n",
       "      <td>40.719586</td>\n",
       "      <td>-74.043117</td>\n",
       "      <td>3267</td>\n",
       "      <td>Morris Canal</td>\n",
       "      <td>40.712419</td>\n",
       "      <td>-74.038526</td>\n",
       "      <td>29643</td>\n",
       "      <td>Subscriber</td>\n",
       "      <td>1994.0</td>\n",
       "      <td>2</td>\n",
       "      <td>2017-07-01 00:00:08</td>\n",
       "      <td>2017-07-01 00:05:48</td>\n",
       "    </tr>\n",
       "    <tr>\n",
       "      <th>1</th>\n",
       "      <td>439</td>\n",
       "      <td>2017-07-01 00:02:35</td>\n",
       "      <td>2017-07-01 00:09:55</td>\n",
       "      <td>3183</td>\n",
       "      <td>Exchange Place</td>\n",
       "      <td>40.716247</td>\n",
       "      <td>-74.033459</td>\n",
       "      <td>3199</td>\n",
       "      <td>Newport Pkwy</td>\n",
       "      <td>40.728745</td>\n",
       "      <td>-74.032108</td>\n",
       "      <td>29585</td>\n",
       "      <td>Subscriber</td>\n",
       "      <td>1980.0</td>\n",
       "      <td>1</td>\n",
       "      <td>2017-07-01 00:02:35</td>\n",
       "      <td>2017-07-01 00:09:55</td>\n",
       "    </tr>\n",
       "    <tr>\n",
       "      <th>2</th>\n",
       "      <td>186</td>\n",
       "      <td>2017-07-01 00:04:33</td>\n",
       "      <td>2017-07-01 00:07:40</td>\n",
       "      <td>3186</td>\n",
       "      <td>Grove St PATH</td>\n",
       "      <td>40.719586</td>\n",
       "      <td>-74.043117</td>\n",
       "      <td>3270</td>\n",
       "      <td>Jersey &amp; 6th St</td>\n",
       "      <td>40.725289</td>\n",
       "      <td>-74.045572</td>\n",
       "      <td>29219</td>\n",
       "      <td>Subscriber</td>\n",
       "      <td>1984.0</td>\n",
       "      <td>1</td>\n",
       "      <td>2017-07-01 00:04:33</td>\n",
       "      <td>2017-07-01 00:07:40</td>\n",
       "    </tr>\n",
       "    <tr>\n",
       "      <th>3</th>\n",
       "      <td>442</td>\n",
       "      <td>2017-07-01 00:05:53</td>\n",
       "      <td>2017-07-01 00:13:15</td>\n",
       "      <td>3195</td>\n",
       "      <td>Sip Ave</td>\n",
       "      <td>40.730743</td>\n",
       "      <td>-74.063784</td>\n",
       "      <td>3193</td>\n",
       "      <td>Lincoln Park</td>\n",
       "      <td>40.724605</td>\n",
       "      <td>-74.078406</td>\n",
       "      <td>29497</td>\n",
       "      <td>Subscriber</td>\n",
       "      <td>1969.0</td>\n",
       "      <td>1</td>\n",
       "      <td>2017-07-01 00:05:53</td>\n",
       "      <td>2017-07-01 00:13:15</td>\n",
       "    </tr>\n",
       "    <tr>\n",
       "      <th>4</th>\n",
       "      <td>170</td>\n",
       "      <td>2017-07-01 00:07:54</td>\n",
       "      <td>2017-07-01 00:10:45</td>\n",
       "      <td>3187</td>\n",
       "      <td>Warren St</td>\n",
       "      <td>40.721124</td>\n",
       "      <td>-74.038051</td>\n",
       "      <td>3186</td>\n",
       "      <td>Grove St PATH</td>\n",
       "      <td>40.719586</td>\n",
       "      <td>-74.043117</td>\n",
       "      <td>29483</td>\n",
       "      <td>Subscriber</td>\n",
       "      <td>1986.0</td>\n",
       "      <td>1</td>\n",
       "      <td>2017-07-01 00:07:54</td>\n",
       "      <td>2017-07-01 00:10:45</td>\n",
       "    </tr>\n",
       "  </tbody>\n",
       "</table>\n",
       "</div>"
      ],
      "text/plain": [
       "   tripduration            starttime             stoptime  start station id  \\\n",
       "0           340  2017-07-01 00:00:08  2017-07-01 00:05:48              3186   \n",
       "1           439  2017-07-01 00:02:35  2017-07-01 00:09:55              3183   \n",
       "2           186  2017-07-01 00:04:33  2017-07-01 00:07:40              3186   \n",
       "3           442  2017-07-01 00:05:53  2017-07-01 00:13:15              3195   \n",
       "4           170  2017-07-01 00:07:54  2017-07-01 00:10:45              3187   \n",
       "\n",
       "  start station name  start station latitude  start station longitude  \\\n",
       "0      Grove St PATH               40.719586               -74.043117   \n",
       "1     Exchange Place               40.716247               -74.033459   \n",
       "2      Grove St PATH               40.719586               -74.043117   \n",
       "3            Sip Ave               40.730743               -74.063784   \n",
       "4          Warren St               40.721124               -74.038051   \n",
       "\n",
       "   end station id end station name  end station latitude  \\\n",
       "0            3267     Morris Canal             40.712419   \n",
       "1            3199     Newport Pkwy             40.728745   \n",
       "2            3270  Jersey & 6th St             40.725289   \n",
       "3            3193     Lincoln Park             40.724605   \n",
       "4            3186    Grove St PATH             40.719586   \n",
       "\n",
       "   end station longitude  bikeid    usertype  birth year  gender  \\\n",
       "0             -74.038526   29643  Subscriber      1994.0       2   \n",
       "1             -74.032108   29585  Subscriber      1980.0       1   \n",
       "2             -74.045572   29219  Subscriber      1984.0       1   \n",
       "3             -74.078406   29497  Subscriber      1969.0       1   \n",
       "4             -74.043117   29483  Subscriber      1986.0       1   \n",
       "\n",
       "            startdate             enddate  \n",
       "0 2017-07-01 00:00:08 2017-07-01 00:05:48  \n",
       "1 2017-07-01 00:02:35 2017-07-01 00:09:55  \n",
       "2 2017-07-01 00:04:33 2017-07-01 00:07:40  \n",
       "3 2017-07-01 00:05:53 2017-07-01 00:13:15  \n",
       "4 2017-07-01 00:07:54 2017-07-01 00:10:45  "
      ]
     },
     "execution_count": 5,
     "metadata": {},
     "output_type": "execute_result"
    }
   ],
   "source": [
    "df = pd.read_csv(os.getenv(\"PUIDATA\") + \"/\" + datestring + '-citibike-tripdata.csv')\n",
    "df['startdate'] = pd.to_datetime(df['starttime'])\n",
    "df['enddate'] = pd.to_datetime(df['stoptime'])\n",
    "df.head()"
   ]
  },
  {
   "cell_type": "code",
   "execution_count": 6,
   "metadata": {
    "collapsed": false
   },
   "outputs": [
    {
     "data": {
      "text/plain": [
       "tripduration                        int64\n",
       "starttime                          object\n",
       "stoptime                           object\n",
       "start station id                    int64\n",
       "start station name                 object\n",
       "start station latitude            float64\n",
       "start station longitude           float64\n",
       "end station id                      int64\n",
       "end station name                   object\n",
       "end station latitude              float64\n",
       "end station longitude             float64\n",
       "bikeid                              int64\n",
       "usertype                           object\n",
       "birth year                        float64\n",
       "gender                              int64\n",
       "startdate                  datetime64[ns]\n",
       "enddate                    datetime64[ns]\n",
       "dtype: object"
      ]
     },
     "execution_count": 6,
     "metadata": {},
     "output_type": "execute_result"
    }
   ],
   "source": [
    "df.dtypes"
   ]
  },
  {
   "cell_type": "code",
   "execution_count": 7,
   "metadata": {
    "collapsed": false
   },
   "outputs": [
    {
     "data": {
      "text/plain": [
       "Index(['tripduration', 'starttime', 'stoptime', 'start station id',\n",
       "       'start station name', 'start station latitude',\n",
       "       'start station longitude', 'end station id', 'end station name',\n",
       "       'end station latitude', 'end station longitude', 'bikeid', 'usertype',\n",
       "       'birth year', 'gender', 'startdate', 'enddate'],\n",
       "      dtype='object')"
      ]
     },
     "execution_count": 7,
     "metadata": {},
     "output_type": "execute_result"
    }
   ],
   "source": [
    "df.columns"
   ]
  },
  {
   "cell_type": "code",
   "execution_count": 8,
   "metadata": {
    "collapsed": false
   },
   "outputs": [],
   "source": [
    "df.drop(['start station id','starttime','stoptime', 'start station name',\n",
    "         'start station latitude', 'start station longitude', 'end station id',\n",
    "         'end station name', 'end station latitude', 'birth year', 'end station longitude',\n",
    "         'bikeid', 'usertype'], axis=1, inplace=True)"
   ]
  },
  {
   "cell_type": "code",
   "execution_count": 9,
   "metadata": {
    "collapsed": false
   },
   "outputs": [
    {
     "data": {
      "text/html": [
       "<div>\n",
       "<table border=\"1\" class=\"dataframe\">\n",
       "  <thead>\n",
       "    <tr style=\"text-align: right;\">\n",
       "      <th></th>\n",
       "      <th>tripduration</th>\n",
       "      <th>gender</th>\n",
       "      <th>startdate</th>\n",
       "      <th>enddate</th>\n",
       "    </tr>\n",
       "  </thead>\n",
       "  <tbody>\n",
       "    <tr>\n",
       "      <th>0</th>\n",
       "      <td>340</td>\n",
       "      <td>2</td>\n",
       "      <td>2017-07-01 00:00:08</td>\n",
       "      <td>2017-07-01 00:05:48</td>\n",
       "    </tr>\n",
       "    <tr>\n",
       "      <th>1</th>\n",
       "      <td>439</td>\n",
       "      <td>1</td>\n",
       "      <td>2017-07-01 00:02:35</td>\n",
       "      <td>2017-07-01 00:09:55</td>\n",
       "    </tr>\n",
       "    <tr>\n",
       "      <th>2</th>\n",
       "      <td>186</td>\n",
       "      <td>1</td>\n",
       "      <td>2017-07-01 00:04:33</td>\n",
       "      <td>2017-07-01 00:07:40</td>\n",
       "    </tr>\n",
       "    <tr>\n",
       "      <th>3</th>\n",
       "      <td>442</td>\n",
       "      <td>1</td>\n",
       "      <td>2017-07-01 00:05:53</td>\n",
       "      <td>2017-07-01 00:13:15</td>\n",
       "    </tr>\n",
       "    <tr>\n",
       "      <th>4</th>\n",
       "      <td>170</td>\n",
       "      <td>1</td>\n",
       "      <td>2017-07-01 00:07:54</td>\n",
       "      <td>2017-07-01 00:10:45</td>\n",
       "    </tr>\n",
       "  </tbody>\n",
       "</table>\n",
       "</div>"
      ],
      "text/plain": [
       "   tripduration  gender           startdate             enddate\n",
       "0           340       2 2017-07-01 00:00:08 2017-07-01 00:05:48\n",
       "1           439       1 2017-07-01 00:02:35 2017-07-01 00:09:55\n",
       "2           186       1 2017-07-01 00:04:33 2017-07-01 00:07:40\n",
       "3           442       1 2017-07-01 00:05:53 2017-07-01 00:13:15\n",
       "4           170       1 2017-07-01 00:07:54 2017-07-01 00:10:45"
      ]
     },
     "execution_count": 9,
     "metadata": {},
     "output_type": "execute_result"
    }
   ],
   "source": [
    "df.head()"
   ]
  },
  {
   "cell_type": "code",
   "execution_count": 10,
   "metadata": {
    "collapsed": false
   },
   "outputs": [],
   "source": [
    "df['startdate'] = df['startdate'].dt.date"
   ]
  },
  {
   "cell_type": "code",
   "execution_count": 11,
   "metadata": {
    "collapsed": false
   },
   "outputs": [],
   "source": [
    "male_df = df[df.gender == 1]"
   ]
  },
  {
   "cell_type": "code",
   "execution_count": 12,
   "metadata": {
    "collapsed": false
   },
   "outputs": [
    {
     "data": {
      "text/html": [
       "<div>\n",
       "<table border=\"1\" class=\"dataframe\">\n",
       "  <thead>\n",
       "    <tr style=\"text-align: right;\">\n",
       "      <th></th>\n",
       "      <th>tripduration</th>\n",
       "      <th>gender</th>\n",
       "      <th>startdate</th>\n",
       "      <th>enddate</th>\n",
       "    </tr>\n",
       "  </thead>\n",
       "  <tbody>\n",
       "    <tr>\n",
       "      <th>1</th>\n",
       "      <td>439</td>\n",
       "      <td>1</td>\n",
       "      <td>2017-07-01</td>\n",
       "      <td>2017-07-01 00:09:55</td>\n",
       "    </tr>\n",
       "    <tr>\n",
       "      <th>2</th>\n",
       "      <td>186</td>\n",
       "      <td>1</td>\n",
       "      <td>2017-07-01</td>\n",
       "      <td>2017-07-01 00:07:40</td>\n",
       "    </tr>\n",
       "    <tr>\n",
       "      <th>3</th>\n",
       "      <td>442</td>\n",
       "      <td>1</td>\n",
       "      <td>2017-07-01</td>\n",
       "      <td>2017-07-01 00:13:15</td>\n",
       "    </tr>\n",
       "    <tr>\n",
       "      <th>4</th>\n",
       "      <td>170</td>\n",
       "      <td>1</td>\n",
       "      <td>2017-07-01</td>\n",
       "      <td>2017-07-01 00:10:45</td>\n",
       "    </tr>\n",
       "    <tr>\n",
       "      <th>5</th>\n",
       "      <td>189</td>\n",
       "      <td>1</td>\n",
       "      <td>2017-07-01</td>\n",
       "      <td>2017-07-01 00:11:16</td>\n",
       "    </tr>\n",
       "  </tbody>\n",
       "</table>\n",
       "</div>"
      ],
      "text/plain": [
       "   tripduration  gender   startdate             enddate\n",
       "1           439       1  2017-07-01 2017-07-01 00:09:55\n",
       "2           186       1  2017-07-01 2017-07-01 00:07:40\n",
       "3           442       1  2017-07-01 2017-07-01 00:13:15\n",
       "4           170       1  2017-07-01 2017-07-01 00:10:45\n",
       "5           189       1  2017-07-01 2017-07-01 00:11:16"
      ]
     },
     "execution_count": 12,
     "metadata": {},
     "output_type": "execute_result"
    }
   ],
   "source": [
    "male_df.head()"
   ]
  },
  {
   "cell_type": "code",
   "execution_count": 13,
   "metadata": {
    "collapsed": true
   },
   "outputs": [],
   "source": [
    "female_df = df[df.gender == 2]"
   ]
  },
  {
   "cell_type": "code",
   "execution_count": 14,
   "metadata": {
    "collapsed": false
   },
   "outputs": [
    {
     "data": {
      "text/html": [
       "<div>\n",
       "<table border=\"1\" class=\"dataframe\">\n",
       "  <thead>\n",
       "    <tr style=\"text-align: right;\">\n",
       "      <th></th>\n",
       "      <th>tripduration</th>\n",
       "      <th>gender</th>\n",
       "      <th>startdate</th>\n",
       "      <th>enddate</th>\n",
       "    </tr>\n",
       "  </thead>\n",
       "  <tbody>\n",
       "    <tr>\n",
       "      <th>0</th>\n",
       "      <td>340</td>\n",
       "      <td>2</td>\n",
       "      <td>2017-07-01</td>\n",
       "      <td>2017-07-01 00:05:48</td>\n",
       "    </tr>\n",
       "    <tr>\n",
       "      <th>6</th>\n",
       "      <td>421</td>\n",
       "      <td>2</td>\n",
       "      <td>2017-07-01</td>\n",
       "      <td>2017-07-01 00:16:04</td>\n",
       "    </tr>\n",
       "    <tr>\n",
       "      <th>12</th>\n",
       "      <td>322</td>\n",
       "      <td>2</td>\n",
       "      <td>2017-07-01</td>\n",
       "      <td>2017-07-01 00:42:15</td>\n",
       "    </tr>\n",
       "    <tr>\n",
       "      <th>15</th>\n",
       "      <td>843</td>\n",
       "      <td>2</td>\n",
       "      <td>2017-07-01</td>\n",
       "      <td>2017-07-01 01:00:29</td>\n",
       "    </tr>\n",
       "    <tr>\n",
       "      <th>17</th>\n",
       "      <td>399</td>\n",
       "      <td>2</td>\n",
       "      <td>2017-07-01</td>\n",
       "      <td>2017-07-01 00:56:54</td>\n",
       "    </tr>\n",
       "  </tbody>\n",
       "</table>\n",
       "</div>"
      ],
      "text/plain": [
       "    tripduration  gender   startdate             enddate\n",
       "0            340       2  2017-07-01 2017-07-01 00:05:48\n",
       "6            421       2  2017-07-01 2017-07-01 00:16:04\n",
       "12           322       2  2017-07-01 2017-07-01 00:42:15\n",
       "15           843       2  2017-07-01 2017-07-01 01:00:29\n",
       "17           399       2  2017-07-01 2017-07-01 00:56:54"
      ]
     },
     "execution_count": 14,
     "metadata": {},
     "output_type": "execute_result"
    }
   ],
   "source": [
    "female_df.head()"
   ]
  },
  {
   "cell_type": "code",
   "execution_count": 15,
   "metadata": {
    "collapsed": false
   },
   "outputs": [
    {
     "data": {
      "text/plain": [
       "11.09519754292894"
      ]
     },
     "execution_count": 15,
     "metadata": {},
     "output_type": "execute_result"
    }
   ],
   "source": [
    "female_trip =female_df['tripduration'].mean() / 60\n",
    "female_trip"
   ]
  },
  {
   "cell_type": "code",
   "execution_count": 16,
   "metadata": {
    "collapsed": false
   },
   "outputs": [
    {
     "data": {
      "text/plain": [
       "9.5312124069549817"
      ]
     },
     "execution_count": 16,
     "metadata": {},
     "output_type": "execute_result"
    }
   ],
   "source": [
    "male_trip =male_df['tripduration'].mean() / 60\n",
    "male_trip"
   ]
  },
  {
   "cell_type": "code",
   "execution_count": 20,
   "metadata": {
    "collapsed": false,
    "scrolled": true
   },
   "outputs": [
    {
     "data": {
      "text/plain": [
       "tripduration             int64\n",
       "gender                   int64\n",
       "startdate               object\n",
       "enddate         datetime64[ns]\n",
       "dtype: object"
      ]
     },
     "execution_count": 20,
     "metadata": {},
     "output_type": "execute_result"
    }
   ],
   "source": [
    "female_df.dtypes"
   ]
  },
  {
   "cell_type": "code",
   "execution_count": 35,
   "metadata": {
    "collapsed": false
   },
   "outputs": [],
   "source": [
    "#female_df.startdate.str.replace('-',' ')"
   ]
  },
  {
   "cell_type": "code",
   "execution_count": 36,
   "metadata": {
    "collapsed": false
   },
   "outputs": [
    {
     "data": {
      "text/plain": [
       "tripduration             int64\n",
       "gender                   int64\n",
       "startdate               object\n",
       "enddate         datetime64[ns]\n",
       "dtype: object"
      ]
     },
     "execution_count": 36,
     "metadata": {},
     "output_type": "execute_result"
    }
   ],
   "source": [
    "female_df.dtypes"
   ]
  },
  {
   "cell_type": "code",
   "execution_count": 37,
   "metadata": {
    "collapsed": false
   },
   "outputs": [
    {
     "data": {
      "text/plain": [
       "tripduration             int64\n",
       "gender                   int64\n",
       "startdate               object\n",
       "enddate         datetime64[ns]\n",
       "dtype: object"
      ]
     },
     "execution_count": 37,
     "metadata": {},
     "output_type": "execute_result"
    }
   ],
   "source": [
    "male_df.dtypes"
   ]
  },
  {
   "cell_type": "code",
   "execution_count": 38,
   "metadata": {
    "collapsed": true
   },
   "outputs": [],
   "source": [
    "# plot female trip time"
   ]
  },
  {
   "cell_type": "code",
   "execution_count": 39,
   "metadata": {
    "collapsed": false
   },
   "outputs": [],
   "source": [
    "#pl.figure(figsize=(10, 10))\n",
    "\n",
    "\n",
    "#pl.bar(female_df['startdate'],female_df['tripduration'] / 60)\n",
    "#pl.xlabel('date', fontsize = 18)\n",
    "#pl.ylabel('average trip length', fontsize = 18)"
   ]
  },
  {
   "cell_type": "code",
   "execution_count": 40,
   "metadata": {
    "collapsed": true
   },
   "outputs": [],
   "source": [
    "# plot male trip time"
   ]
  },
  {
   "cell_type": "code",
   "execution_count": 45,
   "metadata": {
    "collapsed": false
   },
   "outputs": [
    {
     "ename": "SyntaxError",
     "evalue": "invalid syntax (<ipython-input-45-b89b75cd16de>, line 4)",
     "output_type": "error",
     "traceback": [
      "\u001b[0;36m  File \u001b[0;32m\"<ipython-input-45-b89b75cd16de>\"\u001b[0;36m, line \u001b[0;32m4\u001b[0m\n\u001b[0;31m    (female_df['startdate']female_df['tripduration'].groupby([female_df['startdate'].dt.weekday]).count().plot(\u001b[0m\n\u001b[0m                                   ^\u001b[0m\n\u001b[0;31mSyntaxError\u001b[0m\u001b[0;31m:\u001b[0m invalid syntax\n"
     ]
    }
   ],
   "source": [
    "\n",
    "fig = pl.figure(figsize(15,15))\n",
    "\n",
    "(female_df['startdate']female_df['tripduration'].groupby([female_df['startdate'].dt.weekday]).count().plot(\n",
    "    kind=\"bar\", color='SteelBlue', label='female'))\n",
    "\n",
    "#instad of plotting with matplotlib i.e. plot() i use the plot method in pandas\n",
    "#norm_w = 1\n",
    "#((df['date'][df['gender'] == 2].groupby([df['date'].dt.weekday]).count()) / norm_w)\n",
    "#.plot(kind=\"bar\", color='IndianRed', label='female')\n",
    "\n",
    "#norm_m = 1\n",
    "#ax = ((df['date'][df['gender'] == 1].groupby([df['date'].dt.weekday]).count()) / norm_m)\n",
    "#.plot(kind=\"bar\", color='SteelBlue', alpha=0.5, label='male')\n",
    "\n",
    "#tmp = ax.xaxis.set_ticklabels(['Mon', 'Tue', 'Wed', 'Thu', 'Fri', 'Sat', 'Sun'], fontsize=20)\n",
    "#pl.legend()"
   ]
  },
  {
   "cell_type": "code",
   "execution_count": null,
   "metadata": {
    "collapsed": true
   },
   "outputs": [],
   "source": []
  }
 ],
 "metadata": {
  "kernelspec": {
   "display_name": "PUI2016_Python3",
   "language": "python",
   "name": "pui2016_python3"
  },
  "language_info": {
   "codemirror_mode": {
    "name": "ipython",
    "version": 3
   },
   "file_extension": ".py",
   "mimetype": "text/x-python",
   "name": "python",
   "nbconvert_exporter": "python",
   "pygments_lexer": "ipython3",
   "version": "3.5.2"
  }
 },
 "nbformat": 4,
 "nbformat_minor": 0
}
