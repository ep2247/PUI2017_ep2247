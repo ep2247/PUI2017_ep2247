{
 "cells": [
  {
   "cell_type": "code",
   "execution_count": 30,
   "metadata": {
    "collapsed": true
   },
   "outputs": [],
   "source": [
    "from __future__ import print_function\n",
    "__author__ = \"Federica B. Bianco, CUSP NYU 2016\"\n",
    "__contributor__ = \"Emily Padvorac\""
   ]
  },
  {
   "cell_type": "markdown",
   "metadata": {},
   "source": [
    "# Create a <i>reproducible research</i> chunk of code\n",
    "\n",
    "That means we want the reader to be able to reproduce every step of the work we do. \n",
    "\n",
    "If our work includes the use of stochastic processes and random variables that gets tricky: how do we assure the random draw gives the same number to the user that it gave to me? That is not random! \n",
    "\n",
    "That becomes possible because computers are unable to poduce truly random numbers. When we ask a computer to generate a random number, it will in fact generate a \"pseudo random\" number. The number will be randon in the sanse that it will be some number between, for example, 0 and 1 if we ask for a **uniform random distribution** or a number near 0 if we aks for a **Gaussian distribution with mean 0**. <i> But the sequence of pseudo-random numbers that a compujter generates will depend on its **seed**: if you know the seed you know all the numbers that are \"randomely\" drawn</i>.  \n",
    "\n",
    "You can read more about pseudorandom number generation in this wikipedia article https://en.wikipedia.org/wiki/Pseudorandom_number_generator\n",
    "\n",
    "Fill in the empty cells below with code, as directed."
   ]
  },
  {
   "cell_type": "code",
   "execution_count": 63,
   "metadata": {
    "collapsed": true
   },
   "outputs": [],
   "source": [
    "import os\n",
    "import sys\n",
    "\n",
    "# you can use the numpy library for random number generation: \n",
    "# http://docs.scipy.org/doc/numpy/reference/routines.random.html\n",
    "\n",
    "import numpy as np"
   ]
  },
  {
   "cell_type": "markdown",
   "metadata": {},
   "source": [
    "## THIS IS THE MOST IMPORTANT PIECE OF THIS CODE! \n",
    "### give numpy as seed for this code to be reproducible \n",
    "(no points if this is wrong)\n",
    "\n",
    "http://docs.scipy.org/doc/numpy/reference/generated/numpy.random.seed.html"
   ]
  },
  {
   "cell_type": "code",
   "execution_count": 64,
   "metadata": {},
   "outputs": [],
   "source": [
    "# code here...\n",
    "\n",
    "np.random.seed(17)"
   ]
  },
  {
   "cell_type": "markdown",
   "metadata": {},
   "source": [
    "### 1. Generate random distributions. use the function \n",
    "http://docs.scipy.org/doc/numpy/reference/generated/numpy.random.randn.html\n",
    "### to generate 100 2-dimensional random datapoints in a gaussian distribution \n",
    "\n",
    "call the array ReprRand\n"
   ]
  },
  {
   "cell_type": "code",
   "execution_count": 65,
   "metadata": {},
   "outputs": [],
   "source": [
    "# code here...\n",
    "\n",
    "ReprRand = np.random.randn(2,100)\n"
   ]
  },
  {
   "cell_type": "markdown",
   "metadata": {},
   "source": [
    "#### if you did this correctly the shape of ReprRand will be (2, 100)\n"
   ]
  },
  {
   "cell_type": "code",
   "execution_count": 84,
   "metadata": {},
   "outputs": [
    {
     "data": {
      "text/plain": [
       "array([[ 0.27626589, -1.85462808,  0.62390111,  1.14531129,  1.03719047,\n",
       "         1.88663893, -0.11169829, -0.36210134,  0.14867505, -0.43778315,\n",
       "         2.171257  ,  1.15231025, -1.81881234, -0.13804934,  0.53983961,\n",
       "        -1.77528229,  1.31487654, -0.47344805, -1.0922299 , -0.25002744,\n",
       "        -0.9822943 ,  1.03126909,  0.49133378, -0.4466466 , -0.80636008,\n",
       "         0.13126776, -1.21256024,  0.15999085, -0.75522304,  0.34989599,\n",
       "         0.97754176, -0.13858525,  0.10385631,  0.30059104,  0.9682053 ,\n",
       "         0.86962384,  0.56778309,  0.46528234, -1.16537308, -2.03599479,\n",
       "        -1.15541329,  3.34515739,  0.12672721, -0.6941789 ,  0.55767443,\n",
       "         0.0991466 ,  0.63792617,  0.70311068, -0.91609315, -0.78601423,\n",
       "         1.1191818 , -0.98339611,  0.24452002, -0.58140974,  0.4295639 ,\n",
       "         0.79840199, -0.61007005,  1.18540421, -0.71083401, -0.78112893,\n",
       "        -0.23037298,  0.12019508, -0.78846984, -2.96012262, -0.79558112,\n",
       "         0.28458225,  0.52253728,  0.08355444,  2.72079559,  0.61100788,\n",
       "        -0.835944  , -0.00369604,  0.39309468,  0.68449508,  0.77520168,\n",
       "         0.55600289, -0.5409799 ,  1.52441725,  1.20838513,  0.05127728,\n",
       "        -0.42663121,  0.80794023,  0.05727976, -1.04017157,  0.93414809,\n",
       "        -0.12003454,  2.20701631, -3.39993078,  1.2335289 , -0.58788084,\n",
       "        -0.97693692,  0.4680703 ,  2.87112692, -1.20808568,  1.00360318,\n",
       "         1.13072645,  0.56003969, -0.6183973 , -0.22479872,  2.21590145],\n",
       "       [-0.15425836,  0.28760724,  0.57936103,  0.93325024,  1.66961828,\n",
       "         1.7172395 , -0.25365051, -1.16304859,  0.53445146, -1.40903086,\n",
       "        -1.05976993, -0.44612249, -1.16244901, -0.6219923 ,  0.60933126,\n",
       "         0.61521962,  0.50429803, -0.67570259,  1.31351616,  0.9033747 ,\n",
       "        -2.09812613, -0.25777416,  1.02362483, -0.31466071,  1.07290606,\n",
       "         0.03260213,  2.52525474, -0.17490347, -0.84195834,  0.07660079,\n",
       "        -0.67123282, -0.31715941, -0.62535699, -1.05763265,  1.05613807,\n",
       "         0.00449175,  0.21382978, -1.69571592,  1.3480788 , -1.96401159,\n",
       "        -0.23165547,  0.04438523, -1.71228715,  1.61211545, -0.66184754,\n",
       "        -0.57916852,  0.17438682,  0.79887258,  0.53739664, -0.82386984,\n",
       "         0.14616128, -0.09063204,  0.94135926,  1.17733833,  0.02490142,\n",
       "         0.30499976,  0.95457384, -0.00645671,  0.21486642,  1.24242536,\n",
       "         0.14690664,  0.2925585 , -0.63105061, -0.40904686,  0.03737728,\n",
       "         0.93386985, -1.37860188, -0.32798066,  0.3918059 ,  0.74832175,\n",
       "         0.16053549, -0.6120928 ,  0.6884956 ,  0.18208522,  0.46805817,\n",
       "        -0.71571126,  0.2234877 , -0.22955394, -0.40992237, -1.19473027,\n",
       "        -1.21459876, -1.66373475,  1.28830954, -0.62526288,  1.95527549,\n",
       "        -1.89479101, -0.24863524,  1.2949701 , -1.2771433 , -1.23068842,\n",
       "         0.33828792,  0.51028556,  0.05041356, -0.81231328, -0.14679608,\n",
       "         2.05230408,  1.14537241,  0.07647992, -0.86065547, -0.38769898]])"
      ]
     },
     "execution_count": 84,
     "metadata": {},
     "output_type": "execute_result"
    }
   ],
   "source": [
    "# run this cell\n",
    "ReprRand.shape\n",
    "\n",
    "ReprRand"
   ]
  },
  {
   "cell_type": "markdown",
   "metadata": {},
   "source": [
    "## 2. use the same function to generate 50 more random 2x100 numpy arrays and store them in ReprRandAll, all with different mean.\n",
    "\n",
    "np.random.randn creates a distribution with mean 0 and standard deviation 1 by default.\n",
    "\n",
    "To obtain a gaussian distribution with a mean different than 1 using np.random.randn you must add your new mean (it is explained in the dunction documentation for which I already gave you the link)\n",
    "\n",
    "If you want to change the standard deviation (sigma) as well you multiply the distribution by the new sigma.\n",
    "\n",
    "You can do it in a for loop. The first line of code I included generates an array of zeros that you can fill in with your new numbers. \n",
    "\n",
    "\n"
   ]
  },
  {
   "cell_type": "code",
   "execution_count": 80,
   "metadata": {},
   "outputs": [],
   "source": [
    "ReprRandAll = np.zeros((50, 2, 100))\n",
    "    \n",
    "for i in range(50):\n",
    "    #code here...\n",
    "    mu = np.random.randn(2,100)\n",
    "    sigma = np.random.randn(2,100)\n",
    "    ReprRandAll[i] = sigma * ReprRand + mu\n",
    "\n",
    "    "
   ]
  },
  {
   "cell_type": "code",
   "execution_count": 85,
   "metadata": {},
   "outputs": [
    {
     "data": {
      "text/plain": [
       "array([[[-0.50300922, -0.06293063, -0.28064561, ...,  0.50735908,\n",
       "         -2.52508848,  3.85686582],\n",
       "        [ 0.89978795, -0.23478478, -1.05199932, ...,  2.23630171,\n",
       "          0.2596431 ,  0.29745089]],\n",
       "\n",
       "       [[ 1.59709155, -1.72450071, -0.04669924, ...,  0.65294165,\n",
       "         -0.39544623, -0.50624591],\n",
       "        [-0.58821363, -0.79724227, -0.82227843, ...,  1.36982958,\n",
       "         -1.27057367, -1.59461774]],\n",
       "\n",
       "       [[ 1.5147712 , -4.63787777,  0.8259887 , ..., -2.72348448,\n",
       "         -1.51839598,  1.38276001],\n",
       "        [ 0.92750972,  0.34989986,  0.98940214, ..., -1.09992025,\n",
       "          0.36866083, -0.41179559]],\n",
       "\n",
       "       ..., \n",
       "       [[ 0.25137537,  1.03652922,  1.28310764, ..., -1.49748459,\n",
       "          0.84762793,  2.91620408],\n",
       "        [ 1.70931873, -0.2040996 , -0.10914059, ...,  0.62239671,\n",
       "          0.92017497,  0.13170317]],\n",
       "\n",
       "       [[-0.61487462,  4.34776939, -0.07547504, ...,  0.26629781,\n",
       "          0.73456106,  3.04661653],\n",
       "        [-0.79838293,  1.74102442,  0.41250419, ..., -1.21997825,\n",
       "          0.78625308,  0.58674269]],\n",
       "\n",
       "       [[-0.1908699 , -2.45287575, -0.87393523, ..., -0.97581912,\n",
       "          0.06276378,  1.80342441],\n",
       "        [ 0.01096468,  1.10940453,  0.70440955, ...,  1.32711673,\n",
       "          1.22778479, -0.51422084]]])"
      ]
     },
     "execution_count": 85,
     "metadata": {},
     "output_type": "execute_result"
    }
   ],
   "source": [
    "# run this cell\n",
    "ReprRandAll.shape\n",
    "\n",
    "ReprRandAll"
   ]
  },
  {
   "cell_type": "markdown",
   "metadata": {},
   "source": [
    "## 3. now plot them: \n",
    "\n",
    "you can use the matplotlib library, and the function scatter(), but that would plot everything in the same color unless you ask it not to. For convenience, let's use the function plot() which by default plots lines, and tell it to plot points (in addition plot is actually more efficient, so if you have a large dataset you may want to consider using plot with points for it anyways)\n",
    "\n",
    "https://scipy-lectures.github.io/intro/matplotlib/matplotlib.html#scatter-plots\n",
    "\n",
    "http://matplotlib.org/users/pyplot_tutorial.html\n"
   ]
  },
  {
   "cell_type": "code",
   "execution_count": 83,
   "metadata": {},
   "outputs": [
    {
     "name": "stdout",
     "output_type": "stream",
     "text": [
      "Populating the interactive namespace from numpy and matplotlib\n"
     ]
    },
    {
     "data": {
      "image/png": "[encoded data removed]",
      "text/plain": [
       "<matplotlib.figure.Figure at 0x11c47ce80>"
      ]
     },
     "metadata": {},
     "output_type": "display_data"
    }
   ],
   "source": [
    "import pylab as pl\n",
    "%pylab inline\n",
    "# the last line of code makes the plot show up within the notebook. \n",
    "# Always include it so that your homework notebooks are rendered and we can see\n",
    "# what you wanted your results to be. \n",
    "\n",
    "# code here\n",
    "\n",
    "plt.xlabel('x-axis')\n",
    "plt.ylabel('y-axis')\n",
    "plt.title('First plot in PUI')\n",
    "plt.grid(True)\n",
    "\n",
    "for i in range(50):\n",
    "    for j in range(100):\n",
    "        pl.plot(ReprRandAll[i][0][j], ReprRandAll[i][1][j], 'o')\n",
    "   \n"
   ]
  },
  {
   "cell_type": "markdown",
   "metadata": {},
   "source": [
    "Always add a caption to each of your homework figures. \n",
    "And remember to give your labels some names! \n",
    "This is a general rule. Without the caption or axis labels this portion of the HW will not get points. Make sure the font in the labels is large enough to be readable.  \n",
    "\n",
    "## Figure 1: \n",
    "\n",
    "[write a caption here]"
   ]
  },
  {
   "cell_type": "markdown",
   "metadata": {},
   "source": [
    "## Challenge\n",
    "\n",
    "It is easier to give the same mean and standard deviation to each dimension. Can you give two different values for the mean along the x- and the mean along the y- axis for each of the 50 distributions if you have not done so? If you are an experienced coder, can you do it in a single line?\n",
    "\n",
    "\n"
   ]
  },
  {
   "cell_type": "code",
   "execution_count": 9,
   "metadata": {
    "collapsed": true
   },
   "outputs": [],
   "source": [
    "# code here..."
   ]
  },
  {
   "cell_type": "code",
   "execution_count": 10,
   "metadata": {
    "collapsed": true
   },
   "outputs": [],
   "source": [
    "# plot here..."
   ]
  },
  {
   "cell_type": "code",
   "execution_count": null,
   "metadata": {
    "collapsed": true
   },
   "outputs": [],
   "source": []
  }
 ],
 "metadata": {
  "anaconda-cloud": {},
  "kernelspec": {
   "display_name": "Python 3",
   "language": "python",
   "name": "python3"
  },
  "language_info": {
   "codemirror_mode": {
    "name": "ipython",
    "version": 3
   },
   "file_extension": ".py",
   "mimetype": "text/x-python",
   "name": "python",
   "nbconvert_exporter": "python",
   "pygments_lexer": "ipython3",
   "version": "3.6.1"
  }
 },
 "nbformat": 4,
 "nbformat_minor": 1
}
